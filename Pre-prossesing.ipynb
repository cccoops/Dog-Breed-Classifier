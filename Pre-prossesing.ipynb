{
 "cells": [
  {
   "cell_type": "code",
   "execution_count": 1,
   "metadata": {},
   "outputs": [
    {
     "name": "stdout",
     "output_type": "stream",
     "text": [
      "Requirement already satisfied: opencv-python in /Library/Frameworks/Python.framework/Versions/3.11/lib/python3.11/site-packages (4.10.0.84)\n",
      "Requirement already satisfied: numpy>=1.21.2 in /Library/Frameworks/Python.framework/Versions/3.11/lib/python3.11/site-packages (from opencv-python) (1.24.1)\n",
      "Requirement already satisfied: pandas in /Library/Frameworks/Python.framework/Versions/3.11/lib/python3.11/site-packages (2.0.3)\n",
      "Requirement already satisfied: python-dateutil>=2.8.2 in /Library/Frameworks/Python.framework/Versions/3.11/lib/python3.11/site-packages (from pandas) (2.8.2)\n",
      "Requirement already satisfied: pytz>=2020.1 in /Library/Frameworks/Python.framework/Versions/3.11/lib/python3.11/site-packages (from pandas) (2023.3)\n",
      "Requirement already satisfied: tzdata>=2022.1 in /Library/Frameworks/Python.framework/Versions/3.11/lib/python3.11/site-packages (from pandas) (2023.3)\n",
      "Requirement already satisfied: numpy>=1.21.0 in /Library/Frameworks/Python.framework/Versions/3.11/lib/python3.11/site-packages (from pandas) (1.24.1)\n",
      "Requirement already satisfied: six>=1.5 in /Library/Frameworks/Python.framework/Versions/3.11/lib/python3.11/site-packages (from python-dateutil>=2.8.2->pandas) (1.16.0)\n",
      "Requirement already satisfied: pip in /Library/Frameworks/Python.framework/Versions/3.11/lib/python3.11/site-packages (24.2)\n"
     ]
    }
   ],
   "source": [
    "! pip install fast_ml --quiet\n",
    "! pip install opencv-python\n",
    "! pip install pandas\n",
    "\n",
    "! pip install --upgrade pip"
   ]
  },
  {
   "cell_type": "markdown",
   "metadata": {},
   "source": [
    "# Initial setup (Always run)"
   ]
  },
  {
   "cell_type": "code",
   "execution_count": 2,
   "metadata": {},
   "outputs": [
    {
     "ename": "ModuleNotFoundError",
     "evalue": "No module named 'tensorflow'",
     "output_type": "error",
     "traceback": [
      "\u001b[0;31m---------------------------------------------------------------------------\u001b[0m",
      "\u001b[0;31mModuleNotFoundError\u001b[0m                       Traceback (most recent call last)",
      "Cell \u001b[0;32mIn[2], line 7\u001b[0m\n\u001b[1;32m      5\u001b[0m \u001b[38;5;28;01mimport\u001b[39;00m \u001b[38;5;21;01mos\u001b[39;00m\n\u001b[1;32m      6\u001b[0m \u001b[38;5;28;01mfrom\u001b[39;00m \u001b[38;5;21;01msklearn\u001b[39;00m\u001b[38;5;21;01m.\u001b[39;00m\u001b[38;5;21;01mmodel_selection\u001b[39;00m \u001b[38;5;28;01mimport\u001b[39;00m train_test_split\n\u001b[0;32m----> 7\u001b[0m \u001b[38;5;28;01mimport\u001b[39;00m \u001b[38;5;21;01mtensorflow\u001b[39;00m \u001b[38;5;28;01mas\u001b[39;00m \u001b[38;5;21;01mtf\u001b[39;00m\n\u001b[1;32m      8\u001b[0m \u001b[38;5;28;01mimport\u001b[39;00m \u001b[38;5;21;01mseaborn\u001b[39;00m \u001b[38;5;28;01mas\u001b[39;00m \u001b[38;5;21;01msns\u001b[39;00m\n\u001b[1;32m      9\u001b[0m \u001b[38;5;28;01mimport\u001b[39;00m \u001b[38;5;21;01mtensorflow\u001b[39;00m\u001b[38;5;21;01m.\u001b[39;00m\u001b[38;5;21;01mkeras\u001b[39;00m \u001b[38;5;28;01mas\u001b[39;00m \u001b[38;5;21;01mkeras\u001b[39;00m\n",
      "\u001b[0;31mModuleNotFoundError\u001b[0m: No module named 'tensorflow'"
     ]
    }
   ],
   "source": [
    "import numpy as np\n",
    "import matplotlib.pyplot as plt\n",
    "import pandas as pd\n",
    "import cv2\n",
    "import os\n",
    "from sklearn.model_selection import train_test_split\n",
    "import tensorflow as tf\n",
    "import seaborn as sns\n",
    "import tensorflow.keras as keras\n",
    "from tensorflow.keras import Sequential\n",
    "from tensorflow.keras.utils import plot_model, to_categorical\n",
    "from tensorflow.keras.layers import Dense, Input, Dropout, BatchNormalization, Flatten\n",
    "from sklearn.metrics import classification_report, confusion_matrix\n",
    "from sklearn.model_selection import train_test_split\n",
    "from tensorflow.keras.preprocessing.image import ImageDataGenerator, img_to_array, load_img\n",
    "from fast_ml.model_development import train_valid_test_split\n",
    "import pathlib"
   ]
  },
  {
   "cell_type": "markdown",
   "metadata": {},
   "source": [
    "# Preprocessing "
   ]
  },
  {
   "cell_type": "code",
   "execution_count": null,
   "metadata": {},
   "outputs": [],
   "source": [
    "# Function to load and preprocess a single image\n",
    "# Image is resized, converted to array, and normalised\n",
    "def parse_image(image_path, target_size=(224, 224)):\n",
    "    # Load and decode the image\n",
    "    image = load_img(image_path, target_size=target_size)\n",
    "    image = img_to_array(image)  # Convert to array (height, width, channels)\n",
    "\n",
    "    # Normalize to [0, 1]\n",
    "    image /= 255.0  # Normalization is often necessary for model training\n",
    "  \n",
    "    return image\n",
    "\n",
    "# Create a function to calculate the mean over the entire dataset\n",
    "def compute_dataset_mean(image_paths):\n",
    "    total_sum = np.zeros(3)  # We split into 3, to calculate the pr channel mean - good for deep learning models\n",
    "    total_count = 0\n",
    "\n",
    "    for img_path in image_paths:\n",
    "\n",
    "        full_img_path = os.path.join(data_path, img_path)  # Join the base path with the image path\n",
    "\n",
    "        parsed_img = parse_image(full_img_path, target_size=(224, 224))\n",
    "\n",
    "        total_sum += np.mean(parsed_img, axis=(0, 1))  # Mean over width, height for each channel -> we only calculate the mean over the one picture here\n",
    "        total_count += 1\n",
    "\n",
    "    dataset_mean = total_sum / total_count\n",
    "    return dataset_mean\n",
    "\n",
    "# Compute the feature wise mean (over the whole dataset)\n",
    "dataset_mean = compute_dataset_mean(df['Image path'].tolist())\n",
    "print(\"Feature wise Mean: \", dataset_mean)\n",
    "\n",
    "# Function to apply feature-wise centering\n",
    "def zero_centering(image, dataset_mean):\n",
    "    return image - dataset_mean\n",
    "\n",
    "# Load images into the DataFrame and apply zero-centering\n",
    "def load_images_into_dataframe(df, dataset_mean):\n",
    "    # Create a list to hold the processed images\n",
    "    images = []\n",
    "\n",
    "    for image_path in df['Image path']:\n",
    "        full_image_path = os.path.join(data_path, image_path)\n",
    "        image_array = parse_image(full_image_path)  # Load and preprocess the image - is array\n",
    "        image = zero_centering(image_array, dataset_mean)  # Apply zero centering\n",
    "        #image /= 255.0\n",
    "        images.append(image)  # Append the processed image to the list\n",
    "\n",
    "    # Add the images as a new column in the DataFrame\n",
    "    df.insert(2, 'Image', images)\n",
    "\n",
    "    return df\n",
    "\n",
    "# Load images into the DataFrame\n",
    "df = load_images_into_dataframe(df, dataset_mean)\n",
    "\n",
    "# Now the DataFrame contains paths, labels, and processed images\n",
    "df.head(5)\n"
   ]
  },
  {
   "cell_type": "markdown",
   "metadata": {},
   "source": [
    "# Visualize data"
   ]
  },
  {
   "cell_type": "code",
   "execution_count": 2,
   "metadata": {},
   "outputs": [
    {
     "ename": "NameError",
     "evalue": "name 'pathlib' is not defined",
     "output_type": "error",
     "traceback": [
      "\u001b[0;31m---------------------------------------------------------------------------\u001b[0m",
      "\u001b[0;31mNameError\u001b[0m                                 Traceback (most recent call last)",
      "Cell \u001b[0;32mIn[2], line 1\u001b[0m\n\u001b[0;32m----> 1\u001b[0m \u001b[43mpathlib\u001b[49m\u001b[38;5;241m.\u001b[39mPath()\u001b[38;5;241m.\u001b[39mresolve()\n",
      "\u001b[0;31mNameError\u001b[0m: name 'pathlib' is not defined"
     ]
    }
   ],
   "source": [
    "tsinghua_image_path = '/content/gdrive/MyDrive/low-resolution'\n",
    "classes = os.listdir(tsinghua_image_path)\n",
    "\n",
    "print('Number of dog breeds: ', len(classes))\n",
    "\n",
    "#Make empty array to save info about dog breeds and their frequencies\n",
    "class_names_and_frequencies = []\n",
    "\n",
    "#Loop through all classes\n",
    "for class_name in classes:\n",
    "    class_path = os.path.join(tsinghua_image_path, class_name)\n",
    "    dog_name = class_name.split('-')[2] #We only want after the second occurence of \"-\" in the directory name\n",
    "    dog_frequency = len(os.listdir(class_path))\n",
    "    class_names_and_frequencies.append((dog_name, dog_frequency))\n",
    "\n",
    "#Get the dataframe\n",
    "df = pd.DataFrame(class_names_and_frequencies, columns = ['Breeds', 'Frequency'])\n",
    "print('Total number of images :', df['Frequency'].sum())"
   ]
  },
  {
   "cell_type": "code",
   "execution_count": null,
   "metadata": {},
   "outputs": [],
   "source": [
    "#Check if it looks alright\n",
    "df.head()"
   ]
  },
  {
   "cell_type": "code",
   "execution_count": null,
   "metadata": {},
   "outputs": [],
   "source": [
    "#Plot the distribution of dog breeds\n",
    "plt.figure(figsize=(15,8))\n",
    "plt.title('Frequency of dog breeds in descending order')\n",
    "sns.barplot(x = 'Frequency', y = 'Breeds', data = df.sort_values('Frequency', ascending = False).head(30))"
   ]
  },
  {
   "cell_type": "markdown",
   "metadata": {},
   "source": [
    "# Preprocessing"
   ]
  },
  {
   "cell_type": "code",
   "execution_count": null,
   "metadata": {},
   "outputs": [],
   "source": [
    "#Array containing all data\n",
    "dogs = []\n",
    "\n",
    "for dog_breed in os.listdir(tsinghua_image_path):\n",
    "        for image_id in os.listdir(os.path.join(tsinghua_image_path, dog_breed)):\n",
    "            path = os.path.join(dog_breed, image_id)\n",
    "            label = dog_breed.split('-')[2]\n",
    "            dogs.append((path, label))\n",
    "\n",
    "df = pd.DataFrame(dogs, columns = ['Image path', 'Label'])\n",
    "print('Shape of dataframe :', df.shape)\n",
    "\n",
    "df.head()"
   ]
  },
  {
   "cell_type": "code",
   "execution_count": null,
   "metadata": {},
   "outputs": [],
   "source": [
    "# Compute the dataset mean\n",
    "data_mean = compute_dataset_mean(df['Image path'].tolist())\n",
    "print(\"Dataset Mean: \", data_mean)\n",
    "\n",
    "df_with_images = load_images_into_dataframe(df, data_mean)\n",
    "\n",
    "# Now the DataFrame contains paths, labels, and processed images\n",
    "df.head(5)"
   ]
  },
  {
   "cell_type": "markdown",
   "metadata": {},
   "source": [
    "# Train, validation, and test split"
   ]
  },
  {
   "cell_type": "markdown",
   "metadata": {},
   "source": [
    "Now we can split the Dataframe, `df`, that contains all our data into training, validation and test sets"
   ]
  },
  {
   "cell_type": "code",
   "execution_count": null,
   "metadata": {},
   "outputs": [],
   "source": [
    "# train, test, validation split\n",
    "X_train, y_train, X_valid, y_valid, X_test, y_test = train_valid_test_split(df,\n",
    "                                                                            target = 'Label',\n",
    "                                                                            train_size=0.6,\n",
    "                                                                            valid_size=0.2,\n",
    "                                                                            test_size=0.2)\n",
    "\n",
    "# Reset the indices of the different sets\n",
    "for data in [X_train, y_train, X_valid, y_valid, X_test, y_test]:\n",
    "    data.reset_index(drop=True, inplace=True)"
   ]
  },
  {
   "cell_type": "code",
   "execution_count": null,
   "metadata": {},
   "outputs": [],
   "source": [
    "# Print the dataset sizes\n",
    "print(X_train.shape, y_train.shape)\n",
    "print(X_valid.shape, y_valid.shape)\n",
    "print(X_test.shape, y_test.shape)\n"
   ]
  },
  {
   "cell_type": "code",
   "execution_count": null,
   "metadata": {},
   "outputs": [],
   "source": [
    "X_train.head(10)"
   ]
  },
  {
   "cell_type": "markdown",
   "metadata": {},
   "source": [
    "# Model training"
   ]
  },
  {
   "cell_type": "markdown",
   "metadata": {},
   "source": [
    "What to do next here? :O"
   ]
  }
 ],
 "metadata": {
  "kernelspec": {
   "display_name": "Python 3",
   "language": "python",
   "name": "python3"
  },
  "language_info": {
   "codemirror_mode": {
    "name": "ipython",
    "version": 3
   },
   "file_extension": ".py",
   "mimetype": "text/x-python",
   "name": "python",
   "nbconvert_exporter": "python",
   "pygments_lexer": "ipython3",
   "version": "3.9.6"
  }
 },
 "nbformat": 4,
 "nbformat_minor": 2
}
