{
 "cells": [
  {
   "cell_type": "markdown",
   "metadata": {},
   "source": [
    "# Initial setup (Always run)"
   ]
  },
  {
   "cell_type": "code",
   "execution_count": 1,
   "metadata": {},
   "outputs": [
    {
     "name": "stdout",
     "output_type": "stream",
     "text": [
      "2.17.0\n"
     ]
    }
   ],
   "source": [
    "import numpy as np\n",
    "import matplotlib.pyplot as plt\n",
    "import pandas as pd\n",
    "import cv2\n",
    "import os\n",
    "from sklearn.model_selection import train_test_split\n",
    "import tensorflow as tf\n",
    "print(tf.__version__)\n",
    "import seaborn as sns\n",
    "import tensorflow.keras as keras\n",
    "from tensorflow.keras import Sequential\n",
    "from tensorflow.keras.utils import plot_model, to_categorical\n",
    "from tensorflow.keras.layers import Dense, Input, Dropout, BatchNormalization, Flatten\n",
    "from sklearn.metrics import classification_report, confusion_matrix\n",
    "from sklearn.model_selection import train_test_split\n",
    "from tensorflow.keras.preprocessing.image import ImageDataGenerator, img_to_array, load_img\n",
    "from fast_ml.model_development import train_valid_test_split\n",
    "import pathlib\n",
    "from tensorflow.keras import Model\n",
    "from tensorflow.keras.applications import MobileNet\n",
    "from tensorflow.keras.layers import Dense,GlobalAveragePooling2D\n",
    "from tensorflow.keras.models import Model\n",
    "from tensorflow.keras import optimizers\n",
    "from keras.applications.mobilenet import preprocess_input"
   ]
  },
  {
   "cell_type": "markdown",
   "metadata": {},
   "source": [
    "# Preprocessing "
   ]
  },
  {
   "cell_type": "code",
   "execution_count": 2,
   "metadata": {},
   "outputs": [],
   "source": [
    "tsinghua_image_path = os.getcwd()+'/dog_classes'"
   ]
  },
  {
   "cell_type": "markdown",
   "metadata": {},
   "source": [
    "Define different preprocessing functions"
   ]
  },
  {
   "cell_type": "code",
   "execution_count": 9,
   "metadata": {},
   "outputs": [],
   "source": [
    "# Function to load and preprocess a single image\n",
    "# Image is resized, converted to array, and normalised\n",
    "def parse_image(image_path, target_size=(224, 224)):\n",
    "    # Load and decode the image\n",
    "    image = load_img(image_path, target_size=target_size)\n",
    "    image = img_to_array(image)  # Convert to array (height, width, channels)\n",
    "\n",
    "    # Normalize to [0, 1]\n",
    "    image /= 255.0  # Normalization is often necessary for model training\n",
    "  \n",
    "    return image\n",
    "\n",
    "# Create a function to calculate the mean over the entire dataset\n",
    "def compute_dataset_mean(image_paths):\n",
    "    total_sum = np.zeros(3)  # We split into 3, to calculate the pr channel mean - good for deep learning models\n",
    "    total_count = 0\n",
    "\n",
    "    for img_path in image_paths:\n",
    "\n",
    "        full_img_path = os.path.join(tsinghua_image_path, img_path)  # Join the base path with the image path\n",
    "\n",
    "        parsed_img = parse_image(full_img_path, target_size=(224, 224))\n",
    "\n",
    "        total_sum += np.mean(parsed_img, axis=(0, 1))  # Mean over width, height for each channel -> we only calculate the mean over the one picture here\n",
    "        total_count += 1\n",
    "\n",
    "    dataset_mean = total_sum / total_count\n",
    "    return dataset_mean\n",
    "\n",
    "# Compute the feature wise mean (over the whole dataset)\n",
    "#dataset_mean = compute_dataset_mean(df['Image path'].tolist())\n",
    "#print(\"Feature wise Mean: \", dataset_mean)\n",
    "\n",
    "# Function to apply feature-wise centering\n",
    "def zero_centering(image, dataset_mean):\n",
    "    return image - dataset_mean\n",
    "\n",
    "# Load images into the DataFrame and apply zero-centering\n",
    "def load_images_into_dataframe(df, dataset_mean):\n",
    "    # Create a list to hold the processed images\n",
    "    images = []\n",
    "\n",
    "    for image_path in df['Image path']:\n",
    "        full_image_path = os.path.join(\"dog_classes/\", image_path)\n",
    "        #print(full_image_path)\n",
    "        image_array = parse_image(full_image_path)  # Load and preprocess the image - is array\n",
    "        image = zero_centering(image_array, dataset_mean)  # Apply zero centering\n",
    "        #image /= 255.0\n",
    "        images.append(image)  # Append the processed image to the list\n",
    "\n",
    "    # Add the images as a new column in the DataFrame\n",
    "    df.insert(2, 'Image', images)\n",
    "\n",
    "    return df\n",
    "\n",
    "# Load images into the DataFrame\n",
    "#df = load_images_into_dataframe(df, dataset_mean)\n",
    "\n",
    "# Now the DataFrame contains paths, labels, and processed images\n",
    "#df.head(5)\n"
   ]
  },
  {
   "cell_type": "markdown",
   "metadata": {},
   "source": [
    "# Visualize data"
   ]
  },
  {
   "cell_type": "code",
   "execution_count": 31,
   "metadata": {},
   "outputs": [
    {
     "name": "stdout",
     "output_type": "stream",
     "text": [
      "Number of dog breeds:  130\n",
      "Total number of images : 70432\n"
     ]
    }
   ],
   "source": [
    "tsinghua_image_path = os.getcwd()+'/dog_classes'\n",
    "classes = os.listdir(tsinghua_image_path)\n",
    "\n",
    "print('Number of dog breeds: ', len(classes))\n",
    "\n",
    "#Make empty array to save info about dog breeds and their frequencies\n",
    "class_names_and_frequencies = []\n",
    "\n",
    "#Loop through all classes\n",
    "for class_name in classes:\n",
    "    class_path = os.path.join(tsinghua_image_path, class_name)\n",
    "    \n",
    "    if class_name.startswith('.'):\n",
    "        print(f\"Skipping hidden file: {class_name}\")\n",
    "        continue\n",
    "    \n",
    "    dog_name = class_name.split('-')[2] #We only want after the second occurence of \"-\" in the directory name\n",
    "    \n",
    "    \n",
    "    dog_frequency = len(os.listdir(class_path))\n",
    "    class_names_and_frequencies.append((dog_name, dog_frequency))\n",
    "\n",
    "#Get the dataframe\n",
    "df = pd.DataFrame(class_names_and_frequencies, columns = ['Breeds', 'Frequency'])\n",
    "print('Total number of images :', df['Frequency'].sum())"
   ]
  },
  {
   "cell_type": "code",
   "execution_count": 32,
   "metadata": {},
   "outputs": [
    {
     "data": {
      "text/html": [
       "<div>\n",
       "<style scoped>\n",
       "    .dataframe tbody tr th:only-of-type {\n",
       "        vertical-align: middle;\n",
       "    }\n",
       "\n",
       "    .dataframe tbody tr th {\n",
       "        vertical-align: top;\n",
       "    }\n",
       "\n",
       "    .dataframe thead th {\n",
       "        text-align: right;\n",
       "    }\n",
       "</style>\n",
       "<table border=\"1\" class=\"dataframe\">\n",
       "  <thead>\n",
       "    <tr style=\"text-align: right;\">\n",
       "      <th></th>\n",
       "      <th>Breeds</th>\n",
       "      <th>Frequency</th>\n",
       "    </tr>\n",
       "  </thead>\n",
       "  <tbody>\n",
       "    <tr>\n",
       "      <th>0</th>\n",
       "      <td>Shiba_Dog</td>\n",
       "      <td>1043</td>\n",
       "    </tr>\n",
       "    <tr>\n",
       "      <th>1</th>\n",
       "      <td>French_bulldog</td>\n",
       "      <td>1121</td>\n",
       "    </tr>\n",
       "    <tr>\n",
       "      <th>2</th>\n",
       "      <td>Siberian_husky</td>\n",
       "      <td>1160</td>\n",
       "    </tr>\n",
       "    <tr>\n",
       "      <th>3</th>\n",
       "      <td>malamute</td>\n",
       "      <td>1324</td>\n",
       "    </tr>\n",
       "    <tr>\n",
       "      <th>4</th>\n",
       "      <td>Pomeranian</td>\n",
       "      <td>1936</td>\n",
       "    </tr>\n",
       "  </tbody>\n",
       "</table>\n",
       "</div>"
      ],
      "text/plain": [
       "           Breeds  Frequency\n",
       "0       Shiba_Dog       1043\n",
       "1  French_bulldog       1121\n",
       "2  Siberian_husky       1160\n",
       "3        malamute       1324\n",
       "4      Pomeranian       1936"
      ]
     },
     "execution_count": 32,
     "metadata": {},
     "output_type": "execute_result"
    }
   ],
   "source": [
    "#Check if it looks alright\n",
    "df.head()"
   ]
  },
  {
   "cell_type": "code",
   "execution_count": 33,
   "metadata": {},
   "outputs": [
    {
     "data": {
      "text/plain": [
       "<AxesSubplot: title={'center': 'Frequency of dog breeds in descending order'}, xlabel='Frequency', ylabel='Breeds'>"
      ]
     },
     "execution_count": 33,
     "metadata": {},
     "output_type": "execute_result"
    },
    {
     "data": {
      "image/png": "[encoded data removed]",
      "text/plain": [
       "<Figure size 1500x800 with 1 Axes>"
      ]
     },
     "metadata": {},
     "output_type": "display_data"
    }
   ],
   "source": [
    "#Plot the distribution of dog breeds\n",
    "plt.figure(figsize=(15,8))\n",
    "plt.title('Frequency of dog breeds in descending order')\n",
    "sns.barplot(x = 'Frequency', y = 'Breeds', data = df.sort_values('Frequency', ascending = False).head(30))"
   ]
  },
  {
   "cell_type": "markdown",
   "metadata": {},
   "source": [
    "# Preprocessing"
   ]
  },
  {
   "cell_type": "markdown",
   "metadata": {},
   "source": [
    "Here we load images of (currently 5 classes) into a data frame and apply zero-centering"
   ]
  },
  {
   "cell_type": "code",
   "execution_count": 36,
   "metadata": {},
   "outputs": [
    {
     "name": "stdout",
     "output_type": "stream",
     "text": [
      "Number of classes to consider:  5\n",
      "Shape of dataframe : (6584, 2)\n"
     ]
    },
    {
     "data": {
      "text/html": [
       "<div>\n",
       "<style scoped>\n",
       "    .dataframe tbody tr th:only-of-type {\n",
       "        vertical-align: middle;\n",
       "    }\n",
       "\n",
       "    .dataframe tbody tr th {\n",
       "        vertical-align: top;\n",
       "    }\n",
       "\n",
       "    .dataframe thead th {\n",
       "        text-align: right;\n",
       "    }\n",
       "</style>\n",
       "<table border=\"1\" class=\"dataframe\">\n",
       "  <thead>\n",
       "    <tr style=\"text-align: right;\">\n",
       "      <th></th>\n",
       "      <th>Image path</th>\n",
       "      <th>Label</th>\n",
       "    </tr>\n",
       "  </thead>\n",
       "  <tbody>\n",
       "    <tr>\n",
       "      <th>0</th>\n",
       "      <td>c:\\GitRepository\\Dog-Breed-Classifier/dog_clas...</td>\n",
       "      <td>Shiba_Dog</td>\n",
       "    </tr>\n",
       "    <tr>\n",
       "      <th>1</th>\n",
       "      <td>c:\\GitRepository\\Dog-Breed-Classifier/dog_clas...</td>\n",
       "      <td>Shiba_Dog</td>\n",
       "    </tr>\n",
       "    <tr>\n",
       "      <th>2</th>\n",
       "      <td>c:\\GitRepository\\Dog-Breed-Classifier/dog_clas...</td>\n",
       "      <td>Shiba_Dog</td>\n",
       "    </tr>\n",
       "    <tr>\n",
       "      <th>3</th>\n",
       "      <td>c:\\GitRepository\\Dog-Breed-Classifier/dog_clas...</td>\n",
       "      <td>Shiba_Dog</td>\n",
       "    </tr>\n",
       "    <tr>\n",
       "      <th>4</th>\n",
       "      <td>c:\\GitRepository\\Dog-Breed-Classifier/dog_clas...</td>\n",
       "      <td>Shiba_Dog</td>\n",
       "    </tr>\n",
       "  </tbody>\n",
       "</table>\n",
       "</div>"
      ],
      "text/plain": [
       "                                          Image path      Label\n",
       "0  c:\\GitRepository\\Dog-Breed-Classifier/dog_clas...  Shiba_Dog\n",
       "1  c:\\GitRepository\\Dog-Breed-Classifier/dog_clas...  Shiba_Dog\n",
       "2  c:\\GitRepository\\Dog-Breed-Classifier/dog_clas...  Shiba_Dog\n",
       "3  c:\\GitRepository\\Dog-Breed-Classifier/dog_clas...  Shiba_Dog\n",
       "4  c:\\GitRepository\\Dog-Breed-Classifier/dog_clas...  Shiba_Dog"
      ]
     },
     "execution_count": 36,
     "metadata": {},
     "output_type": "execute_result"
    }
   ],
   "source": [
    "#Array containing all data\n",
    "dogs = []\n",
    "\n",
    "tsinghua_image_path = os.getcwd()+'/dog_classes'\n",
    "classes = os.listdir(tsinghua_image_path)\n",
    "\n",
    "classes = classes[:5]\n",
    "print(\"Number of classes to consider: \", len(classes))\n",
    "\n",
    "for dog_breed in classes:\n",
    "    if dog_breed.startswith('.'):\n",
    "        print(f\"Skipping hidden file: {dog_breed}\")\n",
    "        continue\n",
    "    dog_breed_path = os.path.join(tsinghua_image_path, dog_breed)\n",
    "    for image_id in os.listdir(dog_breed_path):\n",
    "        path = os.path.join(dog_breed_path, image_id)\n",
    "        label = dog_breed.split('-')[2]\n",
    "        dogs.append((path, label))\n",
    "\n",
    "df = pd.DataFrame(dogs, columns = ['Image path', 'Label'])\n",
    "print('Shape of dataframe :', df.shape)\n",
    "\n",
    "df.head()"
   ]
  },
  {
   "cell_type": "code",
   "execution_count": 37,
   "metadata": {},
   "outputs": [
    {
     "name": "stdout",
     "output_type": "stream",
     "text": [
      "Dataset Mean:  [0.52031035 0.48458738 0.44069872]\n"
     ]
    },
    {
     "ename": "MemoryError",
     "evalue": "Unable to allocate 1.15 MiB for an array with shape (224, 224, 3) and data type float64",
     "output_type": "error",
     "traceback": [
      "\u001b[1;31m---------------------------------------------------------------------------\u001b[0m",
      "\u001b[1;31mMemoryError\u001b[0m                               Traceback (most recent call last)",
      "Cell \u001b[1;32mIn[37], line 6\u001b[0m\n\u001b[0;32m      3\u001b[0m \u001b[38;5;28mprint\u001b[39m(\u001b[38;5;124m\"\u001b[39m\u001b[38;5;124mDataset Mean: \u001b[39m\u001b[38;5;124m\"\u001b[39m, data_mean)\n\u001b[0;32m      5\u001b[0m \u001b[38;5;66;03m# Make dataframe by applying the mean to zero-center \u001b[39;00m\n\u001b[1;32m----> 6\u001b[0m df_with_images \u001b[38;5;241m=\u001b[39m \u001b[43mload_images_into_dataframe\u001b[49m\u001b[43m(\u001b[49m\u001b[43mdf\u001b[49m\u001b[43m,\u001b[49m\u001b[43m \u001b[49m\u001b[43mdata_mean\u001b[49m\u001b[43m)\u001b[49m\n\u001b[0;32m      8\u001b[0m \u001b[38;5;66;03m# Now the DataFrame contains paths, labels, and processed images\u001b[39;00m\n\u001b[0;32m      9\u001b[0m df\u001b[38;5;241m.\u001b[39mhead(\u001b[38;5;241m5\u001b[39m)\n",
      "Cell \u001b[1;32mIn[9], line 47\u001b[0m, in \u001b[0;36mload_images_into_dataframe\u001b[1;34m(df, dataset_mean)\u001b[0m\n\u001b[0;32m     45\u001b[0m \u001b[38;5;66;03m#print(full_image_path)\u001b[39;00m\n\u001b[0;32m     46\u001b[0m image_array \u001b[38;5;241m=\u001b[39m parse_image(full_image_path)  \u001b[38;5;66;03m# Load and preprocess the image - is array\u001b[39;00m\n\u001b[1;32m---> 47\u001b[0m image \u001b[38;5;241m=\u001b[39m \u001b[43mzero_centering\u001b[49m\u001b[43m(\u001b[49m\u001b[43mimage_array\u001b[49m\u001b[43m,\u001b[49m\u001b[43m \u001b[49m\u001b[43mdataset_mean\u001b[49m\u001b[43m)\u001b[49m  \u001b[38;5;66;03m# Apply zero centering\u001b[39;00m\n\u001b[0;32m     48\u001b[0m \u001b[38;5;66;03m#image /= 255.0\u001b[39;00m\n\u001b[0;32m     49\u001b[0m images\u001b[38;5;241m.\u001b[39mappend(image)  \u001b[38;5;66;03m# Append the processed image to the list\u001b[39;00m\n",
      "Cell \u001b[1;32mIn[9], line 36\u001b[0m, in \u001b[0;36mzero_centering\u001b[1;34m(image, dataset_mean)\u001b[0m\n\u001b[0;32m     35\u001b[0m \u001b[38;5;28;01mdef\u001b[39;00m \u001b[38;5;21mzero_centering\u001b[39m(image, dataset_mean):\n\u001b[1;32m---> 36\u001b[0m     \u001b[38;5;28;01mreturn\u001b[39;00m \u001b[43mimage\u001b[49m\u001b[43m \u001b[49m\u001b[38;5;241;43m-\u001b[39;49m\u001b[43m \u001b[49m\u001b[43mdataset_mean\u001b[49m\n",
      "\u001b[1;31mMemoryError\u001b[0m: Unable to allocate 1.15 MiB for an array with shape (224, 224, 3) and data type float64"
     ]
    }
   ],
   "source": [
    "# Compute the dataset mean\n",
    "data_mean = compute_dataset_mean(df['Image path'].tolist())\n",
    "print(\"Dataset Mean: \", data_mean)\n",
    "\n",
    "# Make dataframe by applying the mean to zero-center \n",
    "df_with_images = load_images_into_dataframe(df, data_mean)\n",
    "\n",
    "# Now the DataFrame contains paths, labels, and processed images\n",
    "df.head(5)"
   ]
  },
  {
   "cell_type": "markdown",
   "metadata": {},
   "source": [
    "# Train, validation, and test split"
   ]
  },
  {
   "cell_type": "markdown",
   "metadata": {},
   "source": [
    "Now we can split the Dataframe, `df`, that contains all our data into training, validation and test sets"
   ]
  },
  {
   "cell_type": "code",
   "execution_count": 12,
   "metadata": {},
   "outputs": [],
   "source": [
    "# train, test, validation split\n",
    "X_train, y_train, X_valid, y_valid, X_test, y_test = train_valid_test_split(df_with_images,\n",
    "                                                                            target = 'Label',\n",
    "                                                                            train_size=0.6,\n",
    "                                                                            valid_size=0.2,\n",
    "                                                                            test_size=0.2)\n",
    "\n",
    "# Reset the indices of the different sets\n",
    "for data in [X_train, y_train, X_valid, y_valid, X_test, y_test]:\n",
    "    data.reset_index(drop=True, inplace=True)"
   ]
  },
  {
   "cell_type": "code",
   "execution_count": 13,
   "metadata": {},
   "outputs": [
    {
     "name": "stdout",
     "output_type": "stream",
     "text": [
      "(3950, 2) (3950,)\n",
      "(1317, 2) (1317,)\n",
      "(1317, 2) (1317,)\n"
     ]
    }
   ],
   "source": [
    "# Print the dataset sizes\n",
    "print(X_train.shape, y_train.shape)\n",
    "print(X_valid.shape, y_valid.shape)\n",
    "print(X_test.shape, y_test.shape)\n"
   ]
  },
  {
   "cell_type": "code",
   "execution_count": 14,
   "metadata": {},
   "outputs": [
    {
     "data": {
      "text/html": [
       "<div>\n",
       "<style scoped>\n",
       "    .dataframe tbody tr th:only-of-type {\n",
       "        vertical-align: middle;\n",
       "    }\n",
       "\n",
       "    .dataframe tbody tr th {\n",
       "        vertical-align: top;\n",
       "    }\n",
       "\n",
       "    .dataframe thead th {\n",
       "        text-align: right;\n",
       "    }\n",
       "</style>\n",
       "<table border=\"1\" class=\"dataframe\">\n",
       "  <thead>\n",
       "    <tr style=\"text-align: right;\">\n",
       "      <th></th>\n",
       "      <th>Image path</th>\n",
       "      <th>Image</th>\n",
       "    </tr>\n",
       "  </thead>\n",
       "  <tbody>\n",
       "    <tr>\n",
       "      <th>0</th>\n",
       "      <td>c:\\GitRepository\\Dog-Breed-Classifier/dog_clas...</td>\n",
       "      <td>[[[-0.13991818455175775, -0.2728226731926257, ...</td>\n",
       "    </tr>\n",
       "    <tr>\n",
       "      <th>1</th>\n",
       "      <td>c:\\GitRepository\\Dog-Breed-Classifier/dog_clas...</td>\n",
       "      <td>[[[-0.4144279944630088, -0.37870502727330274, ...</td>\n",
       "    </tr>\n",
       "    <tr>\n",
       "      <th>2</th>\n",
       "      <td>c:\\GitRepository\\Dog-Breed-Classifier/dog_clas...</td>\n",
       "      <td>[[[0.09537594887300116, -0.1473324696928317, -...</td>\n",
       "    </tr>\n",
       "    <tr>\n",
       "      <th>3</th>\n",
       "      <td>c:\\GitRepository\\Dog-Breed-Classifier/dog_clas...</td>\n",
       "      <td>[[[0.4757680830626069, 0.4761969347089475, 0.3...</td>\n",
       "    </tr>\n",
       "    <tr>\n",
       "      <th>4</th>\n",
       "      <td>c:\\GitRepository\\Dog-Breed-Classifier/dog_clas...</td>\n",
       "      <td>[[[0.2757680949835358, 0.3114910621732419, 0.3...</td>\n",
       "    </tr>\n",
       "    <tr>\n",
       "      <th>5</th>\n",
       "      <td>c:\\GitRepository\\Dog-Breed-Classifier/dog_clas...</td>\n",
       "      <td>[[[0.3267484841017304, 0.3428636093229001, 0.3...</td>\n",
       "    </tr>\n",
       "    <tr>\n",
       "      <th>6</th>\n",
       "      <td>c:\\GitRepository\\Dog-Breed-Classifier/dog_clas...</td>\n",
       "      <td>[[[-0.04187897470907587, -0.061057965031271644...</td>\n",
       "    </tr>\n",
       "    <tr>\n",
       "      <th>7</th>\n",
       "      <td>c:\\GitRepository\\Dog-Breed-Classifier/dog_clas...</td>\n",
       "      <td>[[[-0.42227113125042337, -0.36301875369847364,...</td>\n",
       "    </tr>\n",
       "    <tr>\n",
       "      <th>8</th>\n",
       "      <td>c:\\GitRepository\\Dog-Breed-Classifier/dog_clas...</td>\n",
       "      <td>[[[0.1541994747786103, 0.16247146321236544, 0....</td>\n",
       "    </tr>\n",
       "    <tr>\n",
       "      <th>9</th>\n",
       "      <td>c:\\GitRepository\\Dog-Breed-Classifier/dog_clas...</td>\n",
       "      <td>[[[-0.5007025047125043, -0.46497953752279825, ...</td>\n",
       "    </tr>\n",
       "  </tbody>\n",
       "</table>\n",
       "</div>"
      ],
      "text/plain": [
       "                                          Image path  \\\n",
       "0  c:\\GitRepository\\Dog-Breed-Classifier/dog_clas...   \n",
       "1  c:\\GitRepository\\Dog-Breed-Classifier/dog_clas...   \n",
       "2  c:\\GitRepository\\Dog-Breed-Classifier/dog_clas...   \n",
       "3  c:\\GitRepository\\Dog-Breed-Classifier/dog_clas...   \n",
       "4  c:\\GitRepository\\Dog-Breed-Classifier/dog_clas...   \n",
       "5  c:\\GitRepository\\Dog-Breed-Classifier/dog_clas...   \n",
       "6  c:\\GitRepository\\Dog-Breed-Classifier/dog_clas...   \n",
       "7  c:\\GitRepository\\Dog-Breed-Classifier/dog_clas...   \n",
       "8  c:\\GitRepository\\Dog-Breed-Classifier/dog_clas...   \n",
       "9  c:\\GitRepository\\Dog-Breed-Classifier/dog_clas...   \n",
       "\n",
       "                                               Image  \n",
       "0  [[[-0.13991818455175775, -0.2728226731926257, ...  \n",
       "1  [[[-0.4144279944630088, -0.37870502727330274, ...  \n",
       "2  [[[0.09537594887300116, -0.1473324696928317, -...  \n",
       "3  [[[0.4757680830626069, 0.4761969347089475, 0.3...  \n",
       "4  [[[0.2757680949835358, 0.3114910621732419, 0.3...  \n",
       "5  [[[0.3267484841017304, 0.3428636093229001, 0.3...  \n",
       "6  [[[-0.04187897470907587, -0.061057965031271644...  \n",
       "7  [[[-0.42227113125042337, -0.36301875369847364,...  \n",
       "8  [[[0.1541994747786103, 0.16247146321236544, 0....  \n",
       "9  [[[-0.5007025047125043, -0.46497953752279825, ...  "
      ]
     },
     "execution_count": 14,
     "metadata": {},
     "output_type": "execute_result"
    }
   ],
   "source": [
    "X_train.head(10)"
   ]
  },
  {
   "cell_type": "markdown",
   "metadata": {},
   "source": [
    "# Model training"
   ]
  },
  {
   "cell_type": "markdown",
   "metadata": {},
   "source": [
    "Train a basic model"
   ]
  },
  {
   "cell_type": "code",
   "execution_count": 16,
   "metadata": {},
   "outputs": [
    {
     "name": "stdout",
     "output_type": "stream",
     "text": [
      "c:\\Users\\theah\\AppData\\Local\\Programs\\Python\\Python311\\Lib\\site-packages\\certifi\\cacert.pem\n"
     ]
    }
   ],
   "source": [
    "import certifi\n",
    "print(certifi.where())"
   ]
  },
  {
   "cell_type": "markdown",
   "metadata": {},
   "source": [
    "Load convolutional base"
   ]
  },
  {
   "cell_type": "code",
   "execution_count": 17,
   "metadata": {},
   "outputs": [
    {
     "name": "stdout",
     "output_type": "stream",
     "text": [
      "Downloading data from https://storage.googleapis.com/tensorflow/keras-applications/mobilenet/mobilenet_1_0_224_tf_no_top.h5\n",
      "\u001b[1m17225924/17225924\u001b[0m \u001b[32m━━━━━━━━━━━━━━━━━━━━\u001b[0m\u001b[37m\u001b[0m \u001b[1m1s\u001b[0m 0us/step\n"
     ]
    }
   ],
   "source": [
    "conv_base = MobileNet(weights='imagenet',\n",
    "                      include_top=False,\n",
    "                      input_shape=(224, 224, 3))\n",
    "#conv_base.summary()"
   ]
  },
  {
   "cell_type": "markdown",
   "metadata": {},
   "source": [
    "Create a new top layer and add it to the conv base"
   ]
  },
  {
   "cell_type": "code",
   "execution_count": 18,
   "metadata": {},
   "outputs": [],
   "source": [
    "#Number of classes\n",
    "N=5\n",
    "\n",
    "# Add new top layer\n",
    "x = conv_base.output\n",
    "x = GlobalAveragePooling2D()(x)\n",
    "x = Dense(1024,activation='relu')(x) #dense layer\n",
    "preds = Dense(N,activation='softmax')(x) #final layer with softmax activation\n",
    "\n",
    "# Specify model\n",
    "model = Model(inputs=conv_base.input, outputs=preds)"
   ]
  },
  {
   "cell_type": "markdown",
   "metadata": {},
   "source": [
    "Make convolutional layers \"untrainable\" such that we only train the decoder"
   ]
  },
  {
   "cell_type": "code",
   "execution_count": 20,
   "metadata": {},
   "outputs": [
    {
     "name": "stdout",
     "output_type": "stream",
     "text": [
      "Total number of layers is 89\n",
      "Number of pretrained base layers is 86\n"
     ]
    }
   ],
   "source": [
    "total_num_layers = len(model.layers)\n",
    "num_base_layers = len(conv_base.layers)\n",
    "print(f\"Total number of layers is {total_num_layers}\")\n",
    "print(f\"Number of pretrained base layers is {num_base_layers}\")\n",
    "\n",
    "for layer in model.layers[:num_base_layers]:\n",
    "    layer.trainable=False\n",
    "for layer in model.layers[num_base_layers:]:\n",
    "    layer.trainable=True"
   ]
  },
  {
   "cell_type": "code",
   "execution_count": 38,
   "metadata": {},
   "outputs": [
    {
     "name": "stdout",
     "output_type": "stream",
     "text": [
      "Label\n",
      "False    6584\n",
      "Name: count, dtype: int64\n"
     ]
    }
   ],
   "source": [
    "print(df['Label'].apply(lambda x: os.path.exists(x)).value_counts())"
   ]
  },
  {
   "cell_type": "code",
   "execution_count": 22,
   "metadata": {},
   "outputs": [
    {
     "name": "stdout",
     "output_type": "stream",
     "text": [
      "Filepaths exist check: Image path\n",
      "True    6584\n",
      "Name: count, dtype: int64\n"
     ]
    }
   ],
   "source": [
    "print(\"Filepaths exist check:\", df['Image path'].apply(lambda x: os.path.exists(x)).value_counts())\n"
   ]
  },
  {
   "cell_type": "code",
   "execution_count": 23,
   "metadata": {},
   "outputs": [
    {
     "name": "stdout",
     "output_type": "stream",
     "text": [
      "Found 5268 validated image filenames belonging to 5 classes.\n",
      "Found 1316 validated image filenames belonging to 5 classes.\n"
     ]
    }
   ],
   "source": [
    "# Create an ImageDataGenerator instance\n",
    "datagen = ImageDataGenerator(preprocessing_function=preprocess_input, validation_split=0.2)\n",
    "\n",
    "# Using flow_from_dataframe with ImageDataGenerator\n",
    "train_generator = datagen.flow_from_dataframe(\n",
    "    dataframe=df,\n",
    "    x_col='Image path',              # Column containing file paths\n",
    "    y_col='Label',                 # Column containing labels\n",
    "    target_size=(224, 224),         # Resize images to this size\n",
    "    batch_size=8,\n",
    "    class_mode='categorical',       # Set to 'categorical' for multi-class labels\n",
    "    subset='training',              # Define subset as 'training'\n",
    "    shuffle=True\n",
    ")\n",
    "\n",
    "validation_generator = datagen.flow_from_dataframe(\n",
    "    dataframe=df,\n",
    "    x_col='Image path',\n",
    "    y_col='Label',\n",
    "    target_size=(224, 224),\n",
    "    batch_size=8,\n",
    "    class_mode='categorical',\n",
    "    subset='validation'             # Define subset as 'validation'\n",
    ")"
   ]
  },
  {
   "cell_type": "code",
   "execution_count": 24,
   "metadata": {},
   "outputs": [
    {
     "name": "stdout",
     "output_type": "stream",
     "text": [
      "Epoch 1/10\n",
      "\u001b[1m658/658\u001b[0m \u001b[32m━━━━━━━━━━━━━━━━━━━━\u001b[0m\u001b[37m\u001b[0m \u001b[1m74s\u001b[0m 103ms/step - accuracy: 0.8496 - loss: 0.3946 - val_accuracy: 0.2043 - val_loss: 6.2201\n",
      "Epoch 2/10\n",
      "\u001b[1m658/658\u001b[0m \u001b[32m━━━━━━━━━━━━━━━━━━━━\u001b[0m\u001b[37m\u001b[0m \u001b[1m0s\u001b[0m 373us/step - accuracy: 0.8750 - loss: 0.1866 - val_accuracy: 0.2500 - val_loss: 5.6837\n",
      "Epoch 3/10\n",
      "\u001b[1m658/658\u001b[0m \u001b[32m━━━━━━━━━━━━━━━━━━━━\u001b[0m\u001b[37m\u001b[0m \u001b[1m68s\u001b[0m 103ms/step - accuracy: 0.9390 - loss: 0.1568 - val_accuracy: 0.2043 - val_loss: 6.4385\n",
      "Epoch 4/10\n",
      "\u001b[1m658/658\u001b[0m \u001b[32m━━━━━━━━━━━━━━━━━━━━\u001b[0m\u001b[37m\u001b[0m \u001b[1m0s\u001b[0m 212us/step - accuracy: 1.0000 - loss: 0.1045 - val_accuracy: 0.7500 - val_loss: 2.3660\n",
      "Epoch 5/10\n",
      "\u001b[1m658/658\u001b[0m \u001b[32m━━━━━━━━━━━━━━━━━━━━\u001b[0m\u001b[37m\u001b[0m \u001b[1m68s\u001b[0m 103ms/step - accuracy: 0.9491 - loss: 0.1287 - val_accuracy: 0.2043 - val_loss: 6.5351\n",
      "Epoch 6/10\n",
      "\u001b[1m658/658\u001b[0m \u001b[32m━━━━━━━━━━━━━━━━━━━━\u001b[0m\u001b[37m\u001b[0m \u001b[1m0s\u001b[0m 467us/step - accuracy: 1.0000 - loss: 0.0217 - val_accuracy: 0.7500 - val_loss: 2.8507\n",
      "Epoch 7/10\n",
      "\u001b[1m658/658\u001b[0m \u001b[32m━━━━━━━━━━━━━━━━━━━━\u001b[0m\u001b[37m\u001b[0m \u001b[1m68s\u001b[0m 103ms/step - accuracy: 0.9662 - loss: 0.1007 - val_accuracy: 0.2066 - val_loss: 6.5826\n",
      "Epoch 8/10\n",
      "\u001b[1m658/658\u001b[0m \u001b[32m━━━━━━━━━━━━━━━━━━━━\u001b[0m\u001b[37m\u001b[0m \u001b[1m0s\u001b[0m 181us/step - accuracy: 0.8750 - loss: 0.1808 - val_accuracy: 0.0000e+00 - val_loss: 8.0671\n",
      "Epoch 9/10\n",
      "\u001b[1m658/658\u001b[0m \u001b[32m━━━━━━━━━━━━━━━━━━━━\u001b[0m\u001b[37m\u001b[0m \u001b[1m68s\u001b[0m 104ms/step - accuracy: 0.9736 - loss: 0.0777 - val_accuracy: 0.2058 - val_loss: 6.8439\n",
      "Epoch 10/10\n",
      "\u001b[1m658/658\u001b[0m \u001b[32m━━━━━━━━━━━━━━━━━━━━\u001b[0m\u001b[37m\u001b[0m \u001b[1m0s\u001b[0m 179us/step - accuracy: 1.0000 - loss: 0.0772 - val_accuracy: 0.2500 - val_loss: 6.6732\n"
     ]
    }
   ],
   "source": [
    "# Set up optimizer\n",
    "lr_schedule = optimizers.schedules.ExponentialDecay(\n",
    "    initial_learning_rate=0.001,\n",
    "    decay_steps=100,\n",
    "    decay_rate=1e-6)\n",
    "#sgd_optimizer = optimizers.SGD(learning_rate=lr_schedule,momentum=0.9, nesterov=True)\n",
    "\n",
    "sgd_optimizer = optimizers.SGD(learning_rate=0.001, decay=1e-6, momentum=0.9, nesterov=True)\n",
    "\n",
    "# Compile model - make it trainable\n",
    "model.compile(optimizer=sgd_optimizer,loss='categorical_crossentropy',metrics=['accuracy'])\n",
    "\n",
    "step_size_train = train_generator.n//train_generator.batch_size # Number of mini-batches per epoch (training)\n",
    "step_size_val = validation_generator.n//validation_generator.batch_size # Number of mini-batches per epoch (validation)\n",
    "\n",
    "# Train model for 10 epochs\n",
    "history = model.fit(train_generator,\n",
    "                   validation_data=validation_generator,\n",
    "                   validation_steps=step_size_val,\n",
    "                   steps_per_epoch=step_size_train,\n",
    "                   epochs=10)"
   ]
  },
  {
   "cell_type": "code",
   "execution_count": 29,
   "metadata": {},
   "outputs": [
    {
     "ename": "NameError",
     "evalue": "name 'x_test' is not defined",
     "output_type": "error",
     "traceback": [
      "\u001b[1;31m---------------------------------------------------------------------------\u001b[0m",
      "\u001b[1;31mNameError\u001b[0m                                 Traceback (most recent call last)",
      "Cell \u001b[1;32mIn[29], line 1\u001b[0m\n\u001b[1;32m----> 1\u001b[0m results \u001b[38;5;241m=\u001b[39m model\u001b[38;5;241m.\u001b[39mevaluate(\u001b[43mx_test\u001b[49m, y_test, batch_size\u001b[38;5;241m=\u001b[39m\u001b[38;5;241m32\u001b[39m)\n\u001b[0;32m      2\u001b[0m \u001b[38;5;28mprint\u001b[39m(\u001b[38;5;124m'\u001b[39m\u001b[38;5;124mtest loss, test acc:\u001b[39m\u001b[38;5;124m'\u001b[39m, results)\n",
      "\u001b[1;31mNameError\u001b[0m: name 'x_test' is not defined"
     ]
    }
   ],
   "source": [
    "results = model.evaluate(x_test, y_test, batch_size=32)\n",
    "print('test loss, test acc:', results)"
   ]
  }
 ],
 "metadata": {
  "kernelspec": {
   "display_name": "Python 3",
   "language": "python",
   "name": "python3"
  },
  "language_info": {
   "codemirror_mode": {
    "name": "ipython",
    "version": 3
   },
   "file_extension": ".py",
   "mimetype": "text/x-python",
   "name": "python",
   "nbconvert_exporter": "python",
   "pygments_lexer": "ipython3",
   "version": "3.11.1"
  }
 },
 "nbformat": 4,
 "nbformat_minor": 2
}
